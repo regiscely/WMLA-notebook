{
 "cells": [
  {
   "cell_type": "code",
   "execution_count": 13,
   "metadata": {},
   "outputs": [],
   "source": [
    "import os\n",
    "location = os.environ['KERNEL_PYSPARK_PYTHON']"
   ]
  },
  {
   "cell_type": "code",
   "execution_count": 14,
   "metadata": {},
   "outputs": [],
   "source": [
    "ANACONDA_ROOT=location.rstrip('/bin/python')"
   ]
  },
  {
   "cell_type": "code",
   "execution_count": 15,
   "metadata": {},
   "outputs": [
    {
     "name": "stdout",
     "output_type": "stream",
     "text": [
      "env: CFLAGS=-I$/var/conductor/myconda/anaconda/envs/powerAI161/include\n",
      "env: LDFLAGS=-L$/var/conductor/myconda/anaconda/envs/powerAI161/lib64\n",
      "env: LD_LIBRARY_PATH=${ANACONDA_ROOT}/lib64:$LD_LIBRARY_PATH\n"
     ]
    }
   ],
   "source": [
    "\n",
    "%env CFLAGS=-I${ANACONDA_ROOT}/include\n",
    "%env LDFLAGS=-L${ANACONDA_ROOT}/lib64\n",
    "%env LD_LIBRARY_PATH=${ANACONDA_ROOT}/lib64:$LD_LIBRARY_PATH"
   ]
  },
  {
   "cell_type": "code",
   "execution_count": 16,
   "metadata": {},
   "outputs": [
    {
     "name": "stdout",
     "output_type": "stream",
     "text": [
      "Collecting cupy\n",
      "\u001b[?25l  Downloading https://files.pythonhosted.org/packages/fa/62/8a245b23fbd1bb57da0925ae45cc6d5ed163fedf37323242bfa30b45f07d/cupy-6.4.0.tar.gz (3.1MB)\n",
      "\u001b[K     |################################| 3.1MB 2.7MB/s eta 0:00:011\n",
      "\u001b[?25hRequirement already satisfied: numpy>=1.9.0 in /var/conductor/myconda/anaconda/envs/powerAI161/lib/python3.6/site-packages (from cupy) (1.14.5)\n",
      "Requirement already satisfied: six>=1.9.0 in /var/conductor/myconda/anaconda/envs/powerAI161/lib/python3.6/site-packages (from cupy) (1.12.0)\n",
      "Collecting fastrlock>=0.3 (from cupy)\n",
      "\u001b[?25l  Downloading https://files.pythonhosted.org/packages/8f/ff/6777b85fdbc6efd572a2b713e044c29f5f01ca8b1c74f8d94b427bac60c3/fastrlock-0.4.tar.gz (47kB)\n",
      "\u001b[K     |################################| 51kB 3.7MB/s  eta 0:00:01\n",
      "\u001b[?25hBuilding wheels for collected packages: cupy, fastrlock\n",
      "  Building wheel for cupy (setup.py) ... \u001b[?25ldone\n",
      "\u001b[?25h  Stored in directory: /home/egoadmin/.cache/pip/wheels/0e/c0/70/0a185ea3fd0d9bb1cff87a40dcfbc907e59bb35451a38a31cc\n",
      "  Building wheel for fastrlock (setup.py) ... \u001b[?25ldone\n",
      "\u001b[?25h  Stored in directory: /home/egoadmin/.cache/pip/wheels/73/2b/fe/8bdf21b8ebdc58dfafa3a0935767d2ae9c8f68e49d04c5a190\n",
      "Successfully built cupy fastrlock\n",
      "Installing collected packages: fastrlock, cupy\n",
      "Successfully installed cupy-6.4.0 fastrlock-0.4\n"
     ]
    }
   ],
   "source": [
    "!pip install cupy"
   ]
  },
  {
   "cell_type": "code",
   "execution_count": 18,
   "metadata": {},
   "outputs": [],
   "source": [
    "import time\n",
    "import numpy as np\n",
    "import cupy as cp\n",
    "import cudf\n",
    "from numba import cuda"
   ]
  },
  {
   "cell_type": "code",
   "execution_count": null,
   "metadata": {},
   "outputs": [],
   "source": []
  }
 ],
 "metadata": {
  "kernelspec": {
   "display_name": "Python 3",
   "language": "python",
   "name": "python3"
  },
  "language_info": {
   "codemirror_mode": {
    "name": "ipython",
    "version": 3
   },
   "file_extension": ".py",
   "mimetype": "text/x-python",
   "name": "python",
   "nbconvert_exporter": "python",
   "pygments_lexer": "ipython3",
   "version": "3.6.8"
  }
 },
 "nbformat": 4,
 "nbformat_minor": 2
}
